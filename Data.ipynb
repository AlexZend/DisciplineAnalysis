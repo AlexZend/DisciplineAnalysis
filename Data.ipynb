{
 "cells": [
  {
   "cell_type": "code",
   "execution_count": null,
   "metadata": {},
   "outputs": [],
   "source": [
    "import pandas as pd\n",
    "import numpy as np"
   ]
  },
  {
   "cell_type": "markdown",
   "metadata": {},
   "source": [
    "# Дисциплины"
   ]
  },
  {
   "cell_type": "code",
   "execution_count": null,
   "metadata": {},
   "outputs": [],
   "source": [
    "df_json = pd.read_json('InitialData.json')"
   ]
  },
  {
   "cell_type": "code",
   "execution_count": null,
   "metadata": {},
   "outputs": [],
   "source": [
    "df_json.info()"
   ]
  },
  {
   "cell_type": "code",
   "execution_count": null,
   "metadata": {},
   "outputs": [],
   "source": [
    "# Замена null на NumPy.NaN\n",
    "df_rpd = df_json.copy()\n",
    "columns = df_json.columns\n",
    "for column in columns:\n",
    "    df_rpd[column] = df_rpd.apply(lambda x: x[column] if x[column] != 'null' else np.nan, axis=1)\n",
    "    \n",
    "# Создание df содрежашего идентификатор РПД и кол-во вхождений этого идентификатора (по сути количество семестров изучения дисциплины) в датафрейм. \n",
    "df_count_semester = df_rpd.groupby('КодРПД').count().sort_values(by='КодРПД_Т', ascending = False)[['КодРПД_Т']]\n",
    "# Сортировка позволяющая в последствии удалять все старшие отностиельно начального семестра изучения дисциплины.\n",
    "df_rpd.sort_values(by=['КодРПД', 'Семестр'], inplace = True)\n",
    "# Удаление дубликатов РПД (появление дубликатов связано с добавлением в выгрузку поля семестр, которое по правилам реляционной алгебры для дисциплин изучающихся в нескольких семестрах добавляло несколько записей. Количество этих доблирующихся записей определяется количесвтом семестров изучения данной дисциплины)\n",
    "df_rpd.drop_duplicates(subset = 'КодРПД', keep = 'first', inplace = True)\n",
    "# Добавление нового поля содержащего количество семестров изучения дисциплины.\n",
    "df_rpd['Кол-воСеместров'] = df_rpd.apply(lambda x: df_count_semester.loc[x['КодРПД']][0], axis=1)\n",
    "# Добавление нового поля содержащего последний семестр изучения дисциплины.\n",
    "df_rpd['ПоследнийСеместр'] = df_rpd.apply(lambda x: x['Семестр'] + x['Кол-воСеместров'] - 1, axis=1)\n",
    "\n",
    "# Добавление поля с ссылкой на РПД\n",
    "df_rpd['link'] = df_rpd.apply(lambda x: 'https://edu.donstu.ru/RPD/RPDPrinter.aspx?id=' + str(x['КодРПД']), axis=1)"
   ]
  },
  {
   "cell_type": "code",
   "execution_count": null,
   "metadata": {},
   "outputs": [],
   "source": [
    "df_rpd['rp21_len'] = df_rpd.apply(lambda x: len(str(x['rp21']).strip()), axis=1)\n",
    "df_rpd['rp1_len'] = df_rpd.apply(lambda x: len(str(x['rp1']).strip()), axis=1)\n",
    "df_rpd['rp22_len'] = df_rpd.apply(lambda x: len(str(x['rp22']).strip()), axis=1)\n",
    "df_rpd['rp23_len'] = df_rpd.apply(lambda x: len(str(x['rp23']).strip()), axis=1)\n",
    "df_rpd['rp52_len'] = df_rpd.apply(lambda x: len(str(x['rp52']).strip()), axis=1)\n",
    "df_rpd['rpCQ_len'] = df_rpd.apply(lambda x: len(str(x['rpCQ']).strip()), axis=1)\n",
    "df_rpd['rpMTOD_len'] = df_rpd.apply(lambda x: len(str(x['rpMTOD']).strip()), axis=1)\n",
    "df_rpd['rpSoftware_len'] = df_rpd.apply(lambda x: len(str(x['rpSoftware']).strip()), axis=1)\n",
    "df_rpd['rpFund_len'] = df_rpd.apply(lambda x: len(str(x['rpFund']).strip()), axis=1)\n",
    "df_rpd['rpGuidelines_len'] = df_rpd.apply(lambda x: len(str(x['rpGuidelines']).strip()), axis=1)"
   ]
  },
  {
   "cell_type": "code",
   "execution_count": null,
   "metadata": {},
   "outputs": [],
   "source": [
    "df_rpd[['rp21_len', 'rp1_len', 'rp22_len', 'rp23_len', 'rp52_len', 'rpCQ_len', 'rpMTOD_len', 'rpSoftware_len', 'rpFund_len', 'rpGuidelines_len']].describe()"
   ]
  },
  {
   "cell_type": "code",
   "execution_count": null,
   "metadata": {},
   "outputs": [],
   "source": [
    "df_rpd['text_RPD'] = df_rpd.apply(lambda x: ' '.join(str(str(x['КодРПД']) + ' ' + str(x['rp1']) + str(x['rpCQ'])).replace('\\n', ' ').replace('\\t+', ' ').replace('\\t-', ' ').replace('\\t', ' ').replace('\\r', ' ').strip().split()), axis=1)\n",
    "\n",
    "df_rpd['text_RPD_len'] = df_rpd.apply(lambda x: len(str(x['text_RPD']).strip()), axis=1)\n",
    "df_rpd.text_RPD_len.describe()"
   ]
  },
  {
   "cell_type": "markdown",
   "metadata": {},
   "source": [
    "# Связи"
   ]
  },
  {
   "cell_type": "code",
   "execution_count": null,
   "metadata": {},
   "outputs": [],
   "source": [
    "df_relationships_all = pd.read_excel('all_relation_v1.xlsx')"
   ]
  },
  {
   "cell_type": "code",
   "execution_count": null,
   "metadata": {},
   "outputs": [],
   "source": [
    "# Выделение датафреима содержашего только пререквизиты\n",
    "df_prerequisites = df_relationships_all[df_relationships_all['type'] == 0]\n",
    "# Выделение датафреима содержащего только постреквизиты\n",
    "df_postrequisites = df_relationships_all[df_relationships_all['type'] == 1]"
   ]
  },
  {
   "cell_type": "code",
   "execution_count": null,
   "metadata": {},
   "outputs": [],
   "source": [
    "# Вычленение связей текущих дисциплин (на текущий учебный год) по типу ПРЕРЕКВИЗИТ (type 0)\n",
    "df_prerequisites['available'] = df_prerequisites.apply(lambda x: True if df_rpd['КодРПД'].isin([x['rpdId']]).any() and df_rpd['КодРПД'].isin([x['rpdId1']]).any() else False, axis=1)\n",
    "# Вычленение связей текущих дисциплин (на текущий учебный год) по типу ПОСТРЕКВИЗИТ (type 1)\n",
    "df_postrequisites['available'] = df_postrequisites.apply(lambda x: True if df_rpd['КодРПД'].isin([x['rpdId']]).any() and df_rpd['КодРПД'].isin([x['rpdId1']]).any() else False, axis=1)"
   ]
  },
  {
   "cell_type": "code",
   "execution_count": null,
   "metadata": {},
   "outputs": [],
   "source": [
    "print(df_prerequisites[df_prerequisites['available'] == True].count()[0])\n",
    "df_prerequisites = df_prerequisites[df_prerequisites['available'] == True]\n",
    "df_prerequisites.drop_duplicates(subset = ['rpdId','rpdId1'], keep = 'first', inplace = True)\n",
    "print(df_prerequisites.count()[0])"
   ]
  },
  {
   "cell_type": "code",
   "execution_count": null,
   "metadata": {},
   "outputs": [],
   "source": [
    "print(df_postrequisites[df_postrequisites['available'] == True].count()[0])\n",
    "df_postrequisites = df_postrequisites[df_postrequisites['available'] == True]\n",
    "df_postrequisites.drop_duplicates(subset = ['rpdId','rpdId1'], keep = 'first', inplace = True)\n",
    "print(df_postrequisites.count()[0])"
   ]
  },
  {
   "cell_type": "code",
   "execution_count": null,
   "metadata": {},
   "outputs": [],
   "source": [
    "from numba import jit\n",
    "\n",
    "@jit(nopython=True, parallel=True)\n",
    "def compare(_prereq, _postreq):\n",
    "    count = 0\n",
    "    for id_1, pre in _prereq:\n",
    "        for id_2, post in _postreq:\n",
    "            if (id_1 == post) and (pre == id_2):\n",
    "                count += 1       \n",
    "    return count"
   ]
  },
  {
   "cell_type": "code",
   "execution_count": null,
   "metadata": {},
   "outputs": [],
   "source": [
    "id_subject_pre, id_prerequisit = np.array(df_prerequisites.rpdId.tolist()), np.array(df_prerequisites.rpdId1.tolist())\n",
    "id_subject_post, id_postrequisit = np.array(df_postrequisites.rpdId.tolist()), np.array(df_postrequisites.rpdId1.tolist())\n",
    "\n",
    "prereq = list(zip(id_subject_pre, id_prerequisit))\n",
    "postreq = list(zip(id_subject_post, id_postrequisit))"
   ]
  },
  {
   "cell_type": "code",
   "execution_count": null,
   "metadata": {
    "jupyter": {
     "outputs_hidden": true
    },
    "scrolled": true
   },
   "outputs": [],
   "source": [
    "%%time\n",
    "count_conform_relation = compare(prereq, postreq)\n",
    "print('# Total conform relationship: ' + str(count_conform_relation))\n",
    "print('# Percent conform relationship among the prerequisites: ' + str(count_conform_relation/len(prereq) * 100))\n",
    "print('# Percent conform relationship among the postrequisites: ' + str(count_conform_relation/len(postreq) * 100))"
   ]
  },
  {
   "cell_type": "markdown",
   "metadata": {},
   "source": [
    "# Экспорт данных"
   ]
  },
  {
   "cell_type": "code",
   "execution_count": null,
   "metadata": {},
   "outputs": [],
   "source": [
    "df_prerequisites[['rpdId', 'rpdId1']].to_csv('prerequisites_to_neo4j.csv', header = ['id_postrequisit', 'id_prerequisit'], encoding = 'utf-8', index = False)\n",
    "df_postrequisites[['rpdId', 'rpdId1']].to_csv('postrequisites_to_neo4j.csv', header = ['id_prerequisit', 'id_postrequisit'], encoding = 'utf-8', index = False)\n",
    "df_rpd[['КодРПД', 'УчГод', 'Курс', 'Семестр', 'Кол-воСеместров', 'ПоследнийСеместр', 'Предмет', 'Авторы', 'РУП', 'ТитулРУП', 'ЗЕТфакт', 'ШифрООП', 'НазваниеООП', 'ТипГОСа', 'ДатаУтверждения', 'АббрКаф', 'ЦиклКод', 'normZach', 'protocolDate', 'link']].to_csv('subjects_to_neo4j.csv', header = ['id_RPD', 'academicYear', 'course', 'firstSemester', 'numberSemesters', 'lastSemester', 'titleSubject', 'author', 'RUP', 'OOP', 'teachingLoad', 'codeOOP', 'titleOOP', 'typeGOSa', 'approvalDate', 'abbrDepartment', 'cycleCode', 'normZach', 'protocolDate', 'link'], encoding = 'utf-8', index = False)"
   ]
  }
 ],
 "metadata": {
  "kernelspec": {
   "display_name": "Python 3",
   "language": "python",
   "name": "python3"
  },
  "language_info": {
   "codemirror_mode": {
    "name": "ipython",
    "version": 3
   },
   "file_extension": ".py",
   "mimetype": "text/x-python",
   "name": "python",
   "nbconvert_exporter": "python",
   "pygments_lexer": "ipython3",
   "version": "3.7.6"
  }
 },
 "nbformat": 4,
 "nbformat_minor": 4
}
